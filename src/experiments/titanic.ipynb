{
 "cells": [
  {
   "cell_type": "code",
   "execution_count": null,
   "metadata": {
    "collapsed": true,
    "pycharm": {
     "is_executing": false
    }
   },
   "outputs": [],
   "source": [
    "%load_ext autoreload\n",
    "%autoreload 2\n",
    "\n",
    "import sys\n",
    "sys.path.append('..') # Adds higher directory to python modules path.\n",
    "\n",
    "from preprocessing.loading import load\n",
    "\n",
    "import pandas as pd\n",
    "import numpy as np\n",
    "\n",
    "from sklearn.preprocessing import OneHotEncoder\n",
    "from sklearn.preprocessing import KBinsDiscretizer\n",
    "from sklearn.impute import SimpleImputer\n",
    "\n",
    "# todo check variable trap\n",
    "# todo preprocess X_all for all columns "
   ]
  },
  {
   "cell_type": "code",
   "execution_count": 36,
   "outputs": [
    {
     "data": {
      "text/plain": "   Pclass     Sex   Age  SibSp  Parch     Fare Cabin Embarked\n0       3    male  22.0      1      0   7.2500   NaN        S\n1       1  female  38.0      1      0  71.2833   C85        C\n2       3  female  26.0      0      0   7.9250   NaN        S\n3       1  female  35.0      1      0  53.1000  C123        S\n4       3    male  35.0      0      0   8.0500   NaN        S",
      "text/html": "<div>\n<style scoped>\n    .dataframe tbody tr th:only-of-type {\n        vertical-align: middle;\n    }\n\n    .dataframe tbody tr th {\n        vertical-align: top;\n    }\n\n    .dataframe thead th {\n        text-align: right;\n    }\n</style>\n<table border=\"1\" class=\"dataframe\">\n  <thead>\n    <tr style=\"text-align: right;\">\n      <th></th>\n      <th>Pclass</th>\n      <th>Sex</th>\n      <th>Age</th>\n      <th>SibSp</th>\n      <th>Parch</th>\n      <th>Fare</th>\n      <th>Cabin</th>\n      <th>Embarked</th>\n    </tr>\n  </thead>\n  <tbody>\n    <tr>\n      <th>0</th>\n      <td>3</td>\n      <td>male</td>\n      <td>22.0</td>\n      <td>1</td>\n      <td>0</td>\n      <td>7.2500</td>\n      <td>NaN</td>\n      <td>S</td>\n    </tr>\n    <tr>\n      <th>1</th>\n      <td>1</td>\n      <td>female</td>\n      <td>38.0</td>\n      <td>1</td>\n      <td>0</td>\n      <td>71.2833</td>\n      <td>C85</td>\n      <td>C</td>\n    </tr>\n    <tr>\n      <th>2</th>\n      <td>3</td>\n      <td>female</td>\n      <td>26.0</td>\n      <td>0</td>\n      <td>0</td>\n      <td>7.9250</td>\n      <td>NaN</td>\n      <td>S</td>\n    </tr>\n    <tr>\n      <th>3</th>\n      <td>1</td>\n      <td>female</td>\n      <td>35.0</td>\n      <td>1</td>\n      <td>0</td>\n      <td>53.1000</td>\n      <td>C123</td>\n      <td>S</td>\n    </tr>\n    <tr>\n      <th>4</th>\n      <td>3</td>\n      <td>male</td>\n      <td>35.0</td>\n      <td>0</td>\n      <td>0</td>\n      <td>8.0500</td>\n      <td>NaN</td>\n      <td>S</td>\n    </tr>\n  </tbody>\n</table>\n</div>"
     },
     "metadata": {},
     "output_type": "execute_result",
     "execution_count": 36
    }
   ],
   "source": [
    "# Loading data\n",
    "\n",
    "train_df, test_df = load()\n",
    "\n",
    "X_train = train_df[['Pclass', 'Sex', 'Age', 'SibSp', 'Parch', 'Fare', 'Cabin', 'Embarked']]\n",
    "y_train = train_df[['Survived']]\n",
    "\n",
    "X_test = test_df[['Pclass', 'Sex', 'Age', 'SibSp', 'Parch', 'Fare', 'Cabin', 'Embarked']]\n",
    "\n",
    "X_all = pd.concat([X_train, X_test], axis=0)\n",
    "\n",
    "X_train.head(5)"
   ],
   "metadata": {
    "collapsed": false,
    "pycharm": {
     "name": "#%%\n",
     "is_executing": false
    }
   }
  },
  {
   "cell_type": "code",
   "execution_count": 37,
   "outputs": [
    {
     "name": "stdout",
     "text": [
      "male      577\n",
      "female    314\n",
      "Name: Sex, dtype: int64\n",
      "Sex_female    314\n",
      "Sex_male      577\n",
      "dtype: int64\n"
     ],
     "output_type": "stream"
    },
    {
     "data": {
      "text/plain": "   Pclass   Age  SibSp  Parch     Fare Cabin Embarked  Sex_female  Sex_male\n0       3  22.0      1      0   7.2500   NaN        S       False      True\n1       1  38.0      1      0  71.2833   C85        C        True     False\n2       3  26.0      0      0   7.9250   NaN        S        True     False\n3       1  35.0      1      0  53.1000  C123        S        True     False\n4       3  35.0      0      0   8.0500   NaN        S       False      True",
      "text/html": "<div>\n<style scoped>\n    .dataframe tbody tr th:only-of-type {\n        vertical-align: middle;\n    }\n\n    .dataframe tbody tr th {\n        vertical-align: top;\n    }\n\n    .dataframe thead th {\n        text-align: right;\n    }\n</style>\n<table border=\"1\" class=\"dataframe\">\n  <thead>\n    <tr style=\"text-align: right;\">\n      <th></th>\n      <th>Pclass</th>\n      <th>Age</th>\n      <th>SibSp</th>\n      <th>Parch</th>\n      <th>Fare</th>\n      <th>Cabin</th>\n      <th>Embarked</th>\n      <th>Sex_female</th>\n      <th>Sex_male</th>\n    </tr>\n  </thead>\n  <tbody>\n    <tr>\n      <th>0</th>\n      <td>3</td>\n      <td>22.0</td>\n      <td>1</td>\n      <td>0</td>\n      <td>7.2500</td>\n      <td>NaN</td>\n      <td>S</td>\n      <td>False</td>\n      <td>True</td>\n    </tr>\n    <tr>\n      <th>1</th>\n      <td>1</td>\n      <td>38.0</td>\n      <td>1</td>\n      <td>0</td>\n      <td>71.2833</td>\n      <td>C85</td>\n      <td>C</td>\n      <td>True</td>\n      <td>False</td>\n    </tr>\n    <tr>\n      <th>2</th>\n      <td>3</td>\n      <td>26.0</td>\n      <td>0</td>\n      <td>0</td>\n      <td>7.9250</td>\n      <td>NaN</td>\n      <td>S</td>\n      <td>True</td>\n      <td>False</td>\n    </tr>\n    <tr>\n      <th>3</th>\n      <td>1</td>\n      <td>35.0</td>\n      <td>1</td>\n      <td>0</td>\n      <td>53.1000</td>\n      <td>C123</td>\n      <td>S</td>\n      <td>True</td>\n      <td>False</td>\n    </tr>\n    <tr>\n      <th>4</th>\n      <td>3</td>\n      <td>35.0</td>\n      <td>0</td>\n      <td>0</td>\n      <td>8.0500</td>\n      <td>NaN</td>\n      <td>S</td>\n      <td>False</td>\n      <td>True</td>\n    </tr>\n  </tbody>\n</table>\n</div>"
     },
     "metadata": {},
     "output_type": "execute_result",
     "execution_count": 37
    }
   ],
   "source": [
    "# Sex column has to be encoded\n",
    "\n",
    "print(X_train['Sex'].value_counts(dropna=False))\n",
    "\n",
    "def encode(encoder:OneHotEncoder, data:pd.DataFrame, column:str):\n",
    "    tmp_columns = pd.DataFrame(encoder.transform(data[[column]]), columns=encoder.get_feature_names([column]))\n",
    "    data = data.drop(columns=column)\n",
    "    data = pd.concat([data, tmp_columns], axis=1)\n",
    "    return data\n",
    "\n",
    "sex_ohe = OneHotEncoder(categories='auto', sparse=False, dtype=bool).fit(X_all[['Sex']])\n",
    "X_train = encode(sex_ohe, X_train, 'Sex')\n",
    "\n",
    "print(X_train[sex_ohe.get_feature_names(['Sex'])[:]].eq(1).sum(axis=0))\n",
    "X_train.head(5)"
   ],
   "metadata": {
    "collapsed": false,
    "pycharm": {
     "name": "#%%\n",
     "is_executing": false
    }
   }
  },
  {
   "cell_type": "code",
   "execution_count": 38,
   "outputs": [
    {
     "name": "stdout",
     "text": [
      "3    491\n",
      "1    216\n",
      "2    184\n",
      "Name: Pclass, dtype: int64\n",
      "NaN     177\n",
      "24.0     30\n",
      "22.0     27\n",
      "18.0     26\n",
      "28.0     25\n",
      "19.0     25\n",
      "30.0     25\n",
      "21.0     24\n",
      "25.0     23\n",
      "36.0     22\n",
      "Name: Age, dtype: int64\n",
      "0    608\n",
      "1    209\n",
      "2     28\n",
      "4     18\n",
      "3     16\n",
      "8      7\n",
      "5      5\n",
      "Name: SibSp, dtype: int64\n",
      "0    678\n",
      "1    118\n",
      "2     80\n",
      "5      5\n",
      "3      5\n",
      "4      4\n",
      "6      1\n",
      "Name: Parch, dtype: int64\n",
      "8.0500     43\n",
      "13.0000    42\n",
      "7.8958     38\n",
      "7.7500     34\n",
      "26.0000    31\n",
      "10.5000    24\n",
      "7.9250     18\n",
      "7.7750     16\n",
      "26.5500    15\n",
      "0.0000     15\n",
      "Name: Fare, dtype: int64\n",
      "28.0    202\n",
      "24.0     30\n",
      "22.0     27\n",
      "18.0     26\n",
      "19.0     25\n",
      "30.0     25\n",
      "21.0     24\n",
      "25.0     23\n",
      "36.0     22\n",
      "29.0     20\n",
      "Name: Age, dtype: int64\n"
     ],
     "output_type": "stream"
    },
    {
     "data": {
      "text/plain": "   Pclass   Age  SibSp  Parch     Fare Cabin Embarked  Sex_female  Sex_male\n0       3  22.0      1      0   7.2500   NaN        S       False      True\n1       1  38.0      1      0  71.2833   C85        C        True     False\n2       3  26.0      0      0   7.9250   NaN        S        True     False\n3       1  35.0      1      0  53.1000  C123        S        True     False\n4       3  35.0      0      0   8.0500   NaN        S       False      True",
      "text/html": "<div>\n<style scoped>\n    .dataframe tbody tr th:only-of-type {\n        vertical-align: middle;\n    }\n\n    .dataframe tbody tr th {\n        vertical-align: top;\n    }\n\n    .dataframe thead th {\n        text-align: right;\n    }\n</style>\n<table border=\"1\" class=\"dataframe\">\n  <thead>\n    <tr style=\"text-align: right;\">\n      <th></th>\n      <th>Pclass</th>\n      <th>Age</th>\n      <th>SibSp</th>\n      <th>Parch</th>\n      <th>Fare</th>\n      <th>Cabin</th>\n      <th>Embarked</th>\n      <th>Sex_female</th>\n      <th>Sex_male</th>\n    </tr>\n  </thead>\n  <tbody>\n    <tr>\n      <th>0</th>\n      <td>3</td>\n      <td>22.0</td>\n      <td>1</td>\n      <td>0</td>\n      <td>7.2500</td>\n      <td>NaN</td>\n      <td>S</td>\n      <td>False</td>\n      <td>True</td>\n    </tr>\n    <tr>\n      <th>1</th>\n      <td>1</td>\n      <td>38.0</td>\n      <td>1</td>\n      <td>0</td>\n      <td>71.2833</td>\n      <td>C85</td>\n      <td>C</td>\n      <td>True</td>\n      <td>False</td>\n    </tr>\n    <tr>\n      <th>2</th>\n      <td>3</td>\n      <td>26.0</td>\n      <td>0</td>\n      <td>0</td>\n      <td>7.9250</td>\n      <td>NaN</td>\n      <td>S</td>\n      <td>True</td>\n      <td>False</td>\n    </tr>\n    <tr>\n      <th>3</th>\n      <td>1</td>\n      <td>35.0</td>\n      <td>1</td>\n      <td>0</td>\n      <td>53.1000</td>\n      <td>C123</td>\n      <td>S</td>\n      <td>True</td>\n      <td>False</td>\n    </tr>\n    <tr>\n      <th>4</th>\n      <td>3</td>\n      <td>35.0</td>\n      <td>0</td>\n      <td>0</td>\n      <td>8.0500</td>\n      <td>NaN</td>\n      <td>S</td>\n      <td>False</td>\n      <td>True</td>\n    </tr>\n  </tbody>\n</table>\n</div>"
     },
     "metadata": {},
     "output_type": "execute_result",
     "execution_count": 38
    }
   ],
   "source": [
    "# Checking distribution of numerical values and presence of NaNs\n",
    "\n",
    "print(X_train['Pclass'].value_counts(dropna=False).head(10))\n",
    "print(X_train['Age'].value_counts(dropna=False).head(10))\n",
    "print(X_train['SibSp'].value_counts(dropna=False).head(10))\n",
    "print(X_train['Parch'].value_counts(dropna=False).head(10))\n",
    "print(X_train['Fare'].value_counts(dropna=False).head(10))\n",
    "\n",
    "# We need to get rid of NaNs in Age field\n",
    "\n",
    "def impute(imputer: SimpleImputer, data: pd.DataFrame, column: str):\n",
    "    return pd.DataFrame(imputer.transform(data), columns=[column])\n",
    "\n",
    "age_imputer = SimpleImputer(missing_values=np.nan, strategy='median', verbose=1).fit(X_all[['Age']])\n",
    "X_train['Age'] = impute(age_imputer, X_train[['Age']], 'Age')\n",
    "\n",
    "print(X_train['Age'].value_counts(dropna=False).head(10))\n",
    "X_train.head(5)"
   ],
   "metadata": {
    "collapsed": false,
    "pycharm": {
     "name": "#%%\n",
     "is_executing": false
    }
   }
  },
  {
   "cell_type": "code",
   "execution_count": 39,
   "outputs": [
    {
     "name": "stdout",
     "text": [
      "NaN            687\n",
      "C23 C25 C27      4\n",
      "B96 B98          4\n",
      "G6               4\n",
      "C22 C26          3\n",
      "E101             3\n",
      "F2               3\n",
      "F33              3\n",
      "D                3\n",
      "C124             2\n",
      "Name: Cabin, dtype: int64\n"
     ],
     "output_type": "stream"
    },
    {
     "data": {
      "text/plain": "   Pclass   Age  SibSp  Parch     Fare          Cabin Embarked  Sex_female  \\\n0       3  22.0      1      0   7.2500  Missing-cabin        S       False   \n1       1  38.0      1      0  71.2833            C85        C        True   \n2       3  26.0      0      0   7.9250  Missing-cabin        S        True   \n3       1  35.0      1      0  53.1000           C123        S        True   \n4       3  35.0      0      0   8.0500  Missing-cabin        S       False   \n\n   Sex_male  \n0      True  \n1     False  \n2     False  \n3     False  \n4      True  ",
      "text/html": "<div>\n<style scoped>\n    .dataframe tbody tr th:only-of-type {\n        vertical-align: middle;\n    }\n\n    .dataframe tbody tr th {\n        vertical-align: top;\n    }\n\n    .dataframe thead th {\n        text-align: right;\n    }\n</style>\n<table border=\"1\" class=\"dataframe\">\n  <thead>\n    <tr style=\"text-align: right;\">\n      <th></th>\n      <th>Pclass</th>\n      <th>Age</th>\n      <th>SibSp</th>\n      <th>Parch</th>\n      <th>Fare</th>\n      <th>Cabin</th>\n      <th>Embarked</th>\n      <th>Sex_female</th>\n      <th>Sex_male</th>\n    </tr>\n  </thead>\n  <tbody>\n    <tr>\n      <th>0</th>\n      <td>3</td>\n      <td>22.0</td>\n      <td>1</td>\n      <td>0</td>\n      <td>7.2500</td>\n      <td>Missing-cabin</td>\n      <td>S</td>\n      <td>False</td>\n      <td>True</td>\n    </tr>\n    <tr>\n      <th>1</th>\n      <td>1</td>\n      <td>38.0</td>\n      <td>1</td>\n      <td>0</td>\n      <td>71.2833</td>\n      <td>C85</td>\n      <td>C</td>\n      <td>True</td>\n      <td>False</td>\n    </tr>\n    <tr>\n      <th>2</th>\n      <td>3</td>\n      <td>26.0</td>\n      <td>0</td>\n      <td>0</td>\n      <td>7.9250</td>\n      <td>Missing-cabin</td>\n      <td>S</td>\n      <td>True</td>\n      <td>False</td>\n    </tr>\n    <tr>\n      <th>3</th>\n      <td>1</td>\n      <td>35.0</td>\n      <td>1</td>\n      <td>0</td>\n      <td>53.1000</td>\n      <td>C123</td>\n      <td>S</td>\n      <td>True</td>\n      <td>False</td>\n    </tr>\n    <tr>\n      <th>4</th>\n      <td>3</td>\n      <td>35.0</td>\n      <td>0</td>\n      <td>0</td>\n      <td>8.0500</td>\n      <td>Missing-cabin</td>\n      <td>S</td>\n      <td>False</td>\n      <td>True</td>\n    </tr>\n  </tbody>\n</table>\n</div>"
     },
     "metadata": {},
     "output_type": "execute_result",
     "execution_count": 39
    }
   ],
   "source": [
    "# In Cabin section we have NaNs also\n",
    "\n",
    "print(X_train['Cabin'].value_counts(dropna=False).head(10))\n",
    "\n",
    "cabin_imputer = SimpleImputer(missing_values=np.nan, strategy='constant', verbose=1, fill_value='Missing-cabin').fit(X_all[['Cabin']])\n",
    "X_train['Cabin'] = impute(cabin_imputer, X_train[['Cabin']], 'Cabin')\n",
    "\n",
    "X_train.head(5)"
   ],
   "metadata": {
    "collapsed": false,
    "pycharm": {
     "name": "#%%\n",
     "is_executing": false
    }
   }
  },
  {
   "cell_type": "code",
   "execution_count": 40,
   "outputs": [
    {
     "name": "stdout",
     "text": [
      "S      644\n",
      "C      168\n",
      "Q       77\n",
      "NaN      2\n",
      "Name: Embarked, dtype: int64\n"
     ],
     "output_type": "stream"
    },
    {
     "data": {
      "text/plain": "   Pclass   Age  SibSp  Parch     Fare          Cabin  Sex_female  Sex_male  \\\n0       3  22.0      1      0   7.2500  Missing-cabin       False      True   \n1       1  38.0      1      0  71.2833            C85        True     False   \n2       3  26.0      0      0   7.9250  Missing-cabin        True     False   \n3       1  35.0      1      0  53.1000           C123        True     False   \n4       3  35.0      0      0   8.0500  Missing-cabin       False      True   \n\n   Embarked_C  Embarked_Q  Embarked_S  \n0           0           0           1  \n1           1           0           0  \n2           0           0           1  \n3           0           0           1  \n4           0           0           1  ",
      "text/html": "<div>\n<style scoped>\n    .dataframe tbody tr th:only-of-type {\n        vertical-align: middle;\n    }\n\n    .dataframe tbody tr th {\n        vertical-align: top;\n    }\n\n    .dataframe thead th {\n        text-align: right;\n    }\n</style>\n<table border=\"1\" class=\"dataframe\">\n  <thead>\n    <tr style=\"text-align: right;\">\n      <th></th>\n      <th>Pclass</th>\n      <th>Age</th>\n      <th>SibSp</th>\n      <th>Parch</th>\n      <th>Fare</th>\n      <th>Cabin</th>\n      <th>Sex_female</th>\n      <th>Sex_male</th>\n      <th>Embarked_C</th>\n      <th>Embarked_Q</th>\n      <th>Embarked_S</th>\n    </tr>\n  </thead>\n  <tbody>\n    <tr>\n      <th>0</th>\n      <td>3</td>\n      <td>22.0</td>\n      <td>1</td>\n      <td>0</td>\n      <td>7.2500</td>\n      <td>Missing-cabin</td>\n      <td>False</td>\n      <td>True</td>\n      <td>0</td>\n      <td>0</td>\n      <td>1</td>\n    </tr>\n    <tr>\n      <th>1</th>\n      <td>1</td>\n      <td>38.0</td>\n      <td>1</td>\n      <td>0</td>\n      <td>71.2833</td>\n      <td>C85</td>\n      <td>True</td>\n      <td>False</td>\n      <td>1</td>\n      <td>0</td>\n      <td>0</td>\n    </tr>\n    <tr>\n      <th>2</th>\n      <td>3</td>\n      <td>26.0</td>\n      <td>0</td>\n      <td>0</td>\n      <td>7.9250</td>\n      <td>Missing-cabin</td>\n      <td>True</td>\n      <td>False</td>\n      <td>0</td>\n      <td>0</td>\n      <td>1</td>\n    </tr>\n    <tr>\n      <th>3</th>\n      <td>1</td>\n      <td>35.0</td>\n      <td>1</td>\n      <td>0</td>\n      <td>53.1000</td>\n      <td>C123</td>\n      <td>True</td>\n      <td>False</td>\n      <td>0</td>\n      <td>0</td>\n      <td>1</td>\n    </tr>\n    <tr>\n      <th>4</th>\n      <td>3</td>\n      <td>35.0</td>\n      <td>0</td>\n      <td>0</td>\n      <td>8.0500</td>\n      <td>Missing-cabin</td>\n      <td>False</td>\n      <td>True</td>\n      <td>0</td>\n      <td>0</td>\n      <td>1</td>\n    </tr>\n  </tbody>\n</table>\n</div>"
     },
     "metadata": {},
     "output_type": "execute_result",
     "execution_count": 40
    }
   ],
   "source": [
    "# Encoding Embarked data, removing NaNs\n",
    "\n",
    "print(X_train['Embarked'].value_counts(dropna=False).head(10))\n",
    "\n",
    "embark_imputer = SimpleImputer(missing_values=np.nan, strategy='most_frequent', verbose=1).fit(X_all[['Embarked']])\n",
    "X_train['Embarked'] = impute(embark_imputer, X_train[['Embarked']], 'Embarked')\n",
    "X_all['Embarked'] = impute(embark_imputer, X_all[['Embarked']], 'Embarked')\n",
    "\n",
    "embark_ohe = OneHotEncoder(categories='auto', sparse=False, dtype=int).fit(X_all[['Embarked']])\n",
    "X_train = encode(embark_ohe, X_train, 'Embarked')\n",
    "\n",
    "X_train.head(5)"
   ],
   "metadata": {
    "collapsed": false,
    "pycharm": {
     "name": "#%%\n",
     "is_executing": false
    }
   }
  },
  {
   "cell_type": "code",
   "execution_count": 41,
   "outputs": [],
   "source": [
    "# Processing test data\n",
    "\n",
    "X_test = encode(sex_ohe, X_test, 'Sex')\n",
    "X_test['Age'] = impute(age_imputer, X_train[['Age']], 'Age')\n",
    "X_test['Embarked'] = impute(embark_imputer, X_test[['Embarked']], 'Embarked')\n",
    "X_test = encode(embark_ohe, X_test, 'Embarked')\n",
    "X_test['Cabin'] = impute(cabin_imputer, X_train[['Cabin']], 'Cabin')\n",
    "\n",
    "fare_imputer = SimpleImputer(missing_values=np.nan, strategy='median', verbose=1).fit(X_all[['Fare']])\n",
    "X_test['Fare'] = impute(age_imputer, X_train[['Fare']], 'Fare')\n"
   ],
   "metadata": {
    "collapsed": false,
    "pycharm": {
     "name": "#%%\n",
     "is_executing": false
    }
   }
  },
  {
   "cell_type": "code",
   "execution_count": 42,
   "outputs": [
    {
     "data": {
      "text/plain": "False"
     },
     "metadata": {},
     "output_type": "execute_result",
     "execution_count": 42
    }
   ],
   "source": [
    "X_test['Fare'].isnull().values.any()"
   ],
   "metadata": {
    "collapsed": false,
    "pycharm": {
     "name": "#%%\n",
     "is_executing": false
    }
   }
  },
  {
   "cell_type": "code",
   "execution_count": 48,
   "outputs": [
    {
     "name": "stdout",
     "text": [
      "0.8024691358024691\n",
      "0.9797979797979798\n"
     ],
     "output_type": "stream"
    },
    {
     "name": "stderr",
     "text": [
      "c:\\users\\mikol\\miniconda3\\envs\\newsletter\\lib\\site-packages\\sklearn\\linear_model\\logistic.py:433: FutureWarning: Default solver will be changed to 'lbfgs' in 0.22. Specify a solver to silence this warning.\n",
      "  FutureWarning)\n",
      "c:\\users\\mikol\\miniconda3\\envs\\newsletter\\lib\\site-packages\\sklearn\\utils\\validation.py:761: DataConversionWarning: A column-vector y was passed when a 1d array was expected. Please change the shape of y to (n_samples, ), for example using ravel().\n",
      "  y = column_or_1d(y, warn=True)\n"
     ],
     "output_type": "stream"
    }
   ],
   "source": [
    "# interesting results\n",
    "# X_train = X_train.drop(columns='Cabin')\n",
    "# X_test = X_test.drop(columns='Cabin')\n",
    "\n",
    "from sklearn.linear_model import LogisticRegression\n",
    "clf = LogisticRegression().fit(X_train, y_train)\n",
    "print(clf.score(X_train, y_train))\n",
    "\n",
    "from sklearn.tree import DecisionTreeClassifier\n",
    "clf_dt = DecisionTreeClassifier().fit(X_train, y_train)\n",
    "print(clf_dt.score(X_train, y_train))\n",
    "\n",
    "y_pred_test = clf_dt.predict(X_test)"
   ],
   "metadata": {
    "collapsed": false,
    "pycharm": {
     "name": "#%%\n",
     "is_executing": false
    }
   }
  },
  {
   "cell_type": "code",
   "execution_count": 53,
   "outputs": [],
   "source": [
    "file = pd.DataFrame({\n",
    "   'PassengerId':test_df['PassengerId'],\n",
    "   'Survived': y_pred_test\n",
    "})\n",
    "file.to_csv('titanic.csv', index=False)\n"
   ],
   "metadata": {
    "collapsed": false,
    "pycharm": {
     "name": "#%%\n",
     "is_executing": false
    }
   }
  }
 ],
 "metadata": {
  "kernelspec": {
   "display_name": "Python 3",
   "language": "python",
   "name": "python3"
  },
  "language_info": {
   "codemirror_mode": {
    "name": "ipython",
    "version": 2
   },
   "file_extension": ".py",
   "mimetype": "text/x-python",
   "name": "python",
   "nbconvert_exporter": "python",
   "pygments_lexer": "ipython2",
   "version": "2.7.6"
  },
  "pycharm": {
   "stem_cell": {
    "cell_type": "raw",
    "source": [],
    "metadata": {
     "collapsed": false
    }
   }
  }
 },
 "nbformat": 4,
 "nbformat_minor": 0
}